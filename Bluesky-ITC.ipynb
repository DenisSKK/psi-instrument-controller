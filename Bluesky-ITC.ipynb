{
 "cells": [
  {
   "cell_type": "code",
   "execution_count": 2,
   "id": "1b610e09",
   "metadata": {},
   "outputs": [],
   "source": [
    "from ITC_ophyd import MercuryITCDevice"
   ]
  },
  {
   "cell_type": "code",
   "execution_count": 4,
   "id": "7a69818c",
   "metadata": {},
   "outputs": [
    {
     "name": "stdout",
     "output_type": "stream",
     "text": [
      "connecting to itc-optistat.psi.ch\n"
     ]
    },
    {
     "name": "stderr",
     "output_type": "stream",
     "text": [
      "Could not connect to Mercury at TCPIP0::itc-optistat.psi.ch::7020::SOCKET\n",
      "Traceback (most recent call last):\n",
      "  File \"C:\\Users\\denko\\anaconda3\\envs\\bluesky-with-instrbuilder\\lib\\site-packages\\mercuryitc\\mercury_driver.py\", line 801, in connect\n",
      "    self.connection = self.rm.open_resource(self.visa_address, **kwargs)\n",
      "  File \"C:\\Users\\denko\\anaconda3\\envs\\bluesky-with-instrbuilder\\lib\\site-packages\\pyvisa\\highlevel.py\", line 3284, in open_resource\n",
      "    res.open(access_mode, open_timeout)\n",
      "  File \"C:\\Users\\denko\\anaconda3\\envs\\bluesky-with-instrbuilder\\lib\\site-packages\\pyvisa\\resources\\resource.py\", line 282, in open\n",
      "    self.session, status = self._resource_manager.open_bare_resource(\n",
      "  File \"C:\\Users\\denko\\anaconda3\\envs\\bluesky-with-instrbuilder\\lib\\site-packages\\pyvisa\\highlevel.py\", line 3209, in open_bare_resource\n",
      "    return self.visalib.open(self.session, resource_name, access_mode, open_timeout)\n",
      "  File \"C:\\Users\\denko\\anaconda3\\envs\\bluesky-with-instrbuilder\\lib\\site-packages\\pyvisa_py\\highlevel.py\", line 167, in open\n",
      "    sess = cls(session, resource_name, parsed, open_timeout)\n",
      "  File \"C:\\Users\\denko\\anaconda3\\envs\\bluesky-with-instrbuilder\\lib\\site-packages\\pyvisa_py\\sessions.py\", line 321, in __init__\n",
      "    self.after_parsing()\n",
      "  File \"C:\\Users\\denko\\anaconda3\\envs\\bluesky-with-instrbuilder\\lib\\site-packages\\pyvisa_py\\tcpip.py\", line 1060, in after_parsing\n",
      "    raise Exception(\"could not connect: {0}\".format(str(ret_status)))\n",
      "Exception: could not connect: StatusCode.error_timeout\n"
     ]
    },
    {
     "ename": "IndexError",
     "evalue": "list index out of range",
     "output_type": "error",
     "traceback": [
      "\u001B[1;31m---------------------------------------------------------------------------\u001B[0m",
      "\u001B[1;31mIndexError\u001B[0m                                Traceback (most recent call last)",
      "Cell \u001B[1;32mIn[4], line 1\u001B[0m\n\u001B[1;32m----> 1\u001B[0m LTDLC \u001B[38;5;241m=\u001B[39m \u001B[43mMercuryITCDevice\u001B[49m\u001B[43m(\u001B[49m\u001B[43mprefix\u001B[49m\u001B[38;5;241;43m=\u001B[39;49m\u001B[38;5;124;43m\"\u001B[39;49m\u001B[38;5;124;43m...\u001B[39;49m\u001B[38;5;124;43m\"\u001B[39;49m\u001B[43m,\u001B[49m\u001B[43mname\u001B[49m\u001B[38;5;241;43m=\u001B[39;49m\u001B[38;5;124;43m\"\u001B[39;49m\u001B[38;5;124;43mITCD\u001B[39;49m\u001B[38;5;124;43m\"\u001B[39;49m\u001B[43m,\u001B[49m\u001B[43m \u001B[49m\u001B[43mhost\u001B[49m\u001B[38;5;241;43m=\u001B[39;49m\u001B[38;5;124;43m\"\u001B[39;49m\u001B[38;5;124;43mitc-optistat.psi.ch\u001B[39;49m\u001B[38;5;124;43m\"\u001B[39;49m\u001B[43m)\u001B[49m\n",
      "File \u001B[1;32m~\\PSI\\psi-instrument-controller\\ITC_ophyd.py:335\u001B[0m, in \u001B[0;36mMercuryITCDevice.__init__\u001B[1;34m(self, prefix, name, host, port, kind, configuration_attrs, parent, config_host, **kwargs)\u001B[0m\n\u001B[0;32m    333\u001B[0m \u001B[38;5;28;01mdef\u001B[39;00m \u001B[38;5;21m__init__\u001B[39m(\u001B[38;5;28mself\u001B[39m, prefix,name, host, port\u001B[38;5;241m=\u001B[39m\u001B[38;5;28;01mNone\u001B[39;00m, kind\u001B[38;5;241m=\u001B[39m\u001B[38;5;28;01mNone\u001B[39;00m,configuration_attrs\u001B[38;5;241m=\u001B[39m\u001B[38;5;28;01mNone\u001B[39;00m, parent\u001B[38;5;241m=\u001B[39m\u001B[38;5;28;01mNone\u001B[39;00m,config_host\u001B[38;5;241m=\u001B[39m\u001B[38;5;28;01mNone\u001B[39;00m,\u001B[38;5;241m*\u001B[39m\u001B[38;5;241m*\u001B[39mkwargs):\n\u001B[0;32m    334\u001B[0m     \u001B[38;5;28;01mif\u001B[39;00m config_host\u001B[38;5;241m==\u001B[39m\u001B[38;5;28;01mNone\u001B[39;00m:\n\u001B[1;32m--> 335\u001B[0m         \u001B[38;5;28mself\u001B[39m\u001B[38;5;241m.\u001B[39mitccontroller \u001B[38;5;241m=\u001B[39m \u001B[43mITCController\u001B[49m\u001B[43m(\u001B[49m\u001B[43mhost\u001B[49m\u001B[38;5;241;43m=\u001B[39;49m\u001B[43mhost\u001B[49m\u001B[43m,\u001B[49m\u001B[43mport\u001B[49m\u001B[38;5;241;43m=\u001B[39;49m\u001B[43mport\u001B[49m\u001B[43m)\u001B[49m\n\u001B[0;32m    336\u001B[0m     \u001B[38;5;28;01melse\u001B[39;00m:\n\u001B[0;32m    337\u001B[0m         \u001B[38;5;28mself\u001B[39m\u001B[38;5;241m.\u001B[39mitccontroller \u001B[38;5;241m=\u001B[39m ITCController(host\u001B[38;5;241m=\u001B[39mconfig_host[\u001B[38;5;124m\"\u001B[39m\u001B[38;5;124mhost\u001B[39m\u001B[38;5;124m\"\u001B[39m],port\u001B[38;5;241m=\u001B[39mconfig_host[\u001B[38;5;124m\"\u001B[39m\u001B[38;5;124mport\u001B[39m\u001B[38;5;124m\"\u001B[39m])\n",
      "File \u001B[1;32m~\\PSI\\psi-instrument-controller\\ITC_ophyd.py:136\u001B[0m, in \u001B[0;36mITCController.__init__\u001B[1;34m(self, name, host, port, attr_name, parent, labels, kind)\u001B[0m\n\u001B[0;32m    134\u001B[0m \u001B[38;5;28mself\u001B[39m\u001B[38;5;241m.\u001B[39mport \u001B[38;5;241m=\u001B[39m port\n\u001B[0;32m    135\u001B[0m \u001B[38;5;28mself\u001B[39m\u001B[38;5;241m.\u001B[39m_initialized \u001B[38;5;241m=\u001B[39m \u001B[38;5;28;01mTrue\u001B[39;00m\n\u001B[1;32m--> 136\u001B[0m \u001B[38;5;28;43mself\u001B[39;49m\u001B[38;5;241;43m.\u001B[39;49m\u001B[43m_initialize\u001B[49m\u001B[43m(\u001B[49m\u001B[43m)\u001B[49m\n",
      "File \u001B[1;32m~\\PSI\\psi-instrument-controller\\ITC_ophyd.py:143\u001B[0m, in \u001B[0;36mITCController._initialize\u001B[1;34m(self)\u001B[0m\n\u001B[0;32m    141\u001B[0m logger\u001B[38;5;241m.\u001B[39minfo(\u001B[38;5;124m\"\u001B[39m\u001B[38;5;124mThe connection has already been established.\u001B[39m\u001B[38;5;124m\"\u001B[39m)\n\u001B[0;32m    142\u001B[0m \u001B[38;5;28mself\u001B[39m\u001B[38;5;241m.\u001B[39mITC \u001B[38;5;241m=\u001B[39m MercuryITC(\u001B[38;5;124mf\u001B[39m\u001B[38;5;124m\"\u001B[39m\u001B[38;5;124mTCPIP0::\u001B[39m\u001B[38;5;132;01m{\u001B[39;00m\u001B[38;5;28mself\u001B[39m\u001B[38;5;241m.\u001B[39mhost\u001B[38;5;132;01m}\u001B[39;00m\u001B[38;5;124m::7020::SOCKET\u001B[39m\u001B[38;5;124m\"\u001B[39m)\n\u001B[1;32m--> 143\u001B[0m \u001B[38;5;28mself\u001B[39m\u001B[38;5;241m.\u001B[39mhtr \u001B[38;5;241m=\u001B[39m \u001B[38;5;28;43mself\u001B[39;49m\u001B[38;5;241;43m.\u001B[39;49m\u001B[43mITC\u001B[49m\u001B[38;5;241;43m.\u001B[39;49m\u001B[43mmodules\u001B[49m\u001B[43m[\u001B[49m\u001B[38;5;241;43m1\u001B[39;49m\u001B[43m]\u001B[49m \u001B[38;5;66;03m#main htr\u001B[39;00m\n\u001B[0;32m    144\u001B[0m \u001B[38;5;28mself\u001B[39m\u001B[38;5;241m.\u001B[39mtemp \u001B[38;5;241m=\u001B[39m \u001B[38;5;28mself\u001B[39m\u001B[38;5;241m.\u001B[39mITC\u001B[38;5;241m.\u001B[39mmodules[\u001B[38;5;241m2\u001B[39m]\n\u001B[0;32m    145\u001B[0m \u001B[38;5;28mself\u001B[39m\u001B[38;5;241m.\u001B[39maux \u001B[38;5;241m=\u001B[39m \u001B[38;5;28mself\u001B[39m\u001B[38;5;241m.\u001B[39mITC\u001B[38;5;241m.\u001B[39mmodules[\u001B[38;5;241m0\u001B[39m]\n",
      "\u001B[1;31mIndexError\u001B[0m: list index out of range"
     ]
    }
   ],
   "source": [
    "LTDLC = MercuryITCDevice(prefix=\"...\",name=\"ITCD\", host=\"itc-optistat.psi.ch\")\n",
    "# LTDLC.stage()\n",
    "# print(LTDLC.read())\n",
    "\n",
    "# print(LTDLC.get())\n",
    "# print(LTDLC.describe())"
   ]
  },
  {
   "cell_type": "code",
   "execution_count": null,
   "id": "0dd9a27a",
   "metadata": {},
   "outputs": [],
   "source": [
    "print(LTDLC.read())"
   ]
  },
  {
   "cell_type": "code",
   "execution_count": null,
   "id": "5830e9db",
   "metadata": {},
   "outputs": [],
   "source": [
    "from bluesky import RunEngine\n",
    "from bluesky.plans import count\n",
    "from bluesky.callbacks.best_effort import BestEffortCallback\n",
    "RE = RunEngine({})\n",
    "bec = BestEffortCallback()\n",
    "\n",
    "# Send all metadata/data captured to the BestEffortCallback.\n",
    "RE.subscribe(bec)\n",
    "from databroker import Broker\n",
    "import databroker\n",
    "# db = Broker.named('temp')\n",
    "from databroker import temp\n",
    "catalog = temp()\n",
    "# Insert all metadata/data captured into db.\n",
    "# RE.subscribe(db.insert)\n",
    "# catalog = databroker.catalog['CATALOG_PSI_IR']\n",
    "RE.subscribe(catalog.v1.insert)"
   ]
  },
  {
   "cell_type": "code",
   "execution_count": null,
   "id": "b52aa3e4",
   "metadata": {},
   "outputs": [],
   "source": [
    "# from functools import partial\n",
    "# laser_count = partial(count, [LTDLC])\n",
    "# countDLC, = RE(laser_count(num=5,delay=1))\n",
    "# from bluesky.callbacks.mpl_plotting import LivePlot\n",
    "\n",
    "countDLC, = RE(count([LTDLC],num=5,delay=1))\n",
    "# countDLC, = RE(count([LTDLC],num=5,delay=1, LivePlot('LTDLC_scan_end', 'LTDLC_scan_start')))"
   ]
  },
  {
   "cell_type": "code",
   "execution_count": null,
   "id": "9829b519",
   "metadata": {},
   "outputs": [],
   "source": [
    "header = catalog[countDLC]"
   ]
  },
  {
   "cell_type": "code",
   "execution_count": null,
   "id": "9ed31fdf",
   "metadata": {},
   "outputs": [],
   "source": [
    "list(header)"
   ]
  },
  {
   "cell_type": "code",
   "execution_count": null,
   "id": "78bb5a18",
   "metadata": {},
   "outputs": [],
   "source": [
    "ds = header.primary.read()"
   ]
  },
  {
   "cell_type": "code",
   "execution_count": null,
   "id": "98671251",
   "metadata": {},
   "outputs": [],
   "source": [
    "ds.head()"
   ]
  },
  {
   "cell_type": "code",
   "execution_count": null,
   "id": "7ad9198e",
   "metadata": {},
   "outputs": [],
   "source": [
    "LTDLC.unstage()"
   ]
  }
 ],
 "metadata": {
  "kernelspec": {
   "display_name": "bs-w-instr",
   "language": "python",
   "name": "bs-w-instr"
  },
  "language_info": {
   "codemirror_mode": {
    "name": "ipython",
    "version": 3
   },
   "file_extension": ".py",
   "mimetype": "text/x-python",
   "name": "python",
   "nbconvert_exporter": "python",
   "pygments_lexer": "ipython3",
   "version": "3.9.16"
  }
 },
 "nbformat": 4,
 "nbformat_minor": 5
}

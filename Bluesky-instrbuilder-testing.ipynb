{
 "cells": [
  {
   "cell_type": "code",
   "execution_count": 2,
   "id": "53a5986e",
   "metadata": {},
   "outputs": [
    {
     "name": "stdout",
     "output_type": "stream",
     "text": [
      "Instrument commmands (csv files) are at: C:\\Users\\denko\\anaconda3\\envs\\bluesky-with-instrbuilder\\lib\\site-packages\\instrbuilder\\instruments/\n"
     ]
    }
   ],
   "source": [
    "import instrbuilder\n",
    "init_file_loc = instrbuilder.__file__\n",
    "instrument_cmds = init_file_loc.replace('__init__.py', 'instruments/')\n",
    "print('Instrument commmands (csv files) are at: {}'.format(instrument_cmds))"
   ]
  },
  {
   "cell_type": "code",
   "execution_count": 3,
   "id": "6be77b1d",
   "metadata": {},
   "outputs": [
    {
     "name": "stdout",
     "output_type": "stream",
     "text": [
      "Examples are at: C:\\Users\\denko\\anaconda3\\envs\\bluesky-with-instrbuilder\\lib\\site-packages\\instrbuilder\\examples/\n"
     ]
    }
   ],
   "source": [
    "import instrbuilder\n",
    "init_file_loc = instrbuilder.__file__\n",
    "examples = init_file_loc.replace('__init__.py', 'examples/')\n",
    "print('Examples are at: {}'.format(examples))"
   ]
  },
  {
   "cell_type": "code",
   "execution_count": 1,
   "id": "d0ce97c6",
   "metadata": {
    "ExecuteTime": {
     "end_time": "2023-06-29T12:49:57.031872Z",
     "start_time": "2023-06-29T12:49:56.017470600Z"
    }
   },
   "outputs": [
    {
     "name": "stdout",
     "output_type": "stream",
     "text": [
      "Error:  <class 'ImportError'>\n",
      "IC (integrated circuit imports failed)\n",
      "The aardvark.so or dll must be in the cwd or an importable path\n",
      "Continuing anyways, since many may not use this portion...\n",
      "home: C:\\Users\\denko\\.instrbuilder\n"
     ]
    }
   ],
   "source": [
    "from instrbuilder import instrument_opening\n",
    "instrument_opening.init_yaml(csv_dir='C:\\\\Users\\\\denko\\\\anaconda3\\\\envs\\\\bluesky-with-instrbuilder\\\\lib\\\\site-packages\\\\instrbuilder\\\\instruments\\\\')"
   ]
  },
  {
   "cell_type": "code",
   "execution_count": 11,
   "id": "a2db4faf",
   "metadata": {},
   "outputs": [
    {
     "data": {
      "text/plain": [
       "0"
      ]
     },
     "execution_count": 11,
     "metadata": {},
     "output_type": "execute_result"
    }
   ],
   "source": [
    "from bluesky import RunEngine\n",
    "from bluesky.callbacks import LiveTable\n",
    "from bluesky.plans import scan, count\n",
    "from databroker import Broker\n",
    "\n",
    "from ophyd.device import Kind\n",
    "from ophyd.ee_instruments import generate_ophyd_obj\n",
    "from instrbuilder.instrument_opening import open_by_name\n",
    "\n",
    "RE = RunEngine({})\n",
    "\n",
    "from databroker import Broker\n",
    "import databroker\n",
    "from databroker import temp\n",
    "catalog = temp()\n",
    "# Insert all metadata/data captured into db.\n",
    "# RE.subscribe(db.insert)\n",
    "# catalog = databroker.catalog['CATALOG_PSI_IR']\n",
    "RE.subscribe(catalog.v1.insert)"
   ]
  },
  {
   "cell_type": "code",
   "execution_count": 13,
   "id": "e3c835ac",
   "metadata": {},
   "outputs": [
    {
     "data": {
      "text/plain": [
       "1"
      ]
     },
     "execution_count": 13,
     "metadata": {},
     "output_type": "execute_result"
    }
   ],
   "source": [
    "from bluesky.callbacks.best_effort import BestEffortCallback\n",
    "bec = BestEffortCallback()\n",
    "# Send all metadata/data captured to the BestEffortCallback.\n",
    "RE.subscribe(bec)"
   ]
  },
  {
   "cell_type": "code",
   "execution_count": 22,
   "id": "f97aee89",
   "metadata": {},
   "outputs": [
    {
     "name": "stdout",
     "output_type": "stream",
     "text": [
      "Trying to open the device even though it was not found by the resource manager\n",
      "VI_ERROR_RSRC_NFOUND (-1073807343): Insufficient location information or the requested device or resource is not present in the system.\n",
      "Device Opening failed\n",
      "'PyVisaUSB' object has no attribute 'comm'\n",
      "PyVISA address USB0::0x0957::0x0407::MY44060286::INSTR not found\n",
      "================================================================================\n",
      "Running in debug mode without instrument attached\n",
      "All commands sent to the instrument will be printed to stdout.\n",
      "Unless specified by cmd attribute _unconnected_val \n",
      "getters will always return 7 (getter_debug_value)\n",
      "================================================================================\n",
      "\n",
      "*IDN?\n",
      "'Command' object has no attribute '_unconnected_val'\n",
      "Opened Instrument: 7\n",
      "*IDN?\n",
      "'Command' object has no attribute '_unconnected_val'\n"
     ]
    }
   ],
   "source": [
    "fg_scpi = open_by_name(name='old_fg')   # name within the configuration file (config.yaml)\n",
    "fg_scpi.name = 'fg'\n",
    "FG, component_dict = generate_ophyd_obj(name='fg', scpi_obj=fg_scpi)\n",
    "fg = FG(name='fg')\n",
    "\n",
    "RE.md['fg'] = fg.id.get()"
   ]
  },
  {
   "cell_type": "code",
   "execution_count": null,
   "id": "d1c70a0a",
   "metadata": {},
   "outputs": [],
   "source": []
  }
 ],
 "metadata": {
  "kernelspec": {
   "display_name": "Python (bluesky-with-instrbuilder)",
   "language": "python",
   "name": "bluesky-with-instrbuilder"
  },
  "language_info": {
   "codemirror_mode": {
    "name": "ipython",
    "version": 3
   },
   "file_extension": ".py",
   "mimetype": "text/x-python",
   "name": "python",
   "nbconvert_exporter": "python",
   "pygments_lexer": "ipython3",
   "version": "3.9.16"
  }
 },
 "nbformat": 4,
 "nbformat_minor": 5
}
